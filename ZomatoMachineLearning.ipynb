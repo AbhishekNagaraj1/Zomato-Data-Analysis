{
 "cells": [
  {
   "cell_type": "markdown",
   "metadata": {},
   "source": [
    "# Machine Learning of the Cleaned Zomato Data"
   ]
  },
  {
   "cell_type": "code",
   "execution_count": 184,
   "metadata": {},
   "outputs": [
    {
     "data": {
      "text/html": [
       "<div>\n",
       "<style>\n",
       "    .dataframe thead tr:only-child th {\n",
       "        text-align: right;\n",
       "    }\n",
       "\n",
       "    .dataframe thead th {\n",
       "        text-align: left;\n",
       "    }\n",
       "\n",
       "    .dataframe tbody tr th {\n",
       "        vertical-align: top;\n",
       "    }\n",
       "</style>\n",
       "<table border=\"1\" class=\"dataframe\">\n",
       "  <thead>\n",
       "    <tr style=\"text-align: right;\">\n",
       "      <th></th>\n",
       "      <th>Unnamed: 0</th>\n",
       "      <th>Restaurant ID</th>\n",
       "      <th>Restaurant Name</th>\n",
       "      <th>City</th>\n",
       "      <th>Longitude</th>\n",
       "      <th>Latitude</th>\n",
       "      <th>Average Cost for two</th>\n",
       "      <th>Has Table booking</th>\n",
       "      <th>Has Online delivery</th>\n",
       "      <th>Is delivering now</th>\n",
       "      <th>...</th>\n",
       "      <th>Cuisine 1_Street Food</th>\n",
       "      <th>Cuisine 1_Sushi</th>\n",
       "      <th>Cuisine 1_Tea</th>\n",
       "      <th>Cuisine 1_Tex-Mex</th>\n",
       "      <th>Cuisine 1_Thai</th>\n",
       "      <th>Cuisine 1_Tibetan</th>\n",
       "      <th>Cuisine 1_Turkish</th>\n",
       "      <th>Cuisine 1_Vietnamese</th>\n",
       "      <th>Rating text</th>\n",
       "      <th>Aggregate rating</th>\n",
       "    </tr>\n",
       "  </thead>\n",
       "  <tbody>\n",
       "    <tr>\n",
       "      <th>0</th>\n",
       "      <td>0</td>\n",
       "      <td>3400025</td>\n",
       "      <td>Jahanpanah</td>\n",
       "      <td>Agra</td>\n",
       "      <td>78.011544</td>\n",
       "      <td>27.161661</td>\n",
       "      <td>850</td>\n",
       "      <td>0</td>\n",
       "      <td>0</td>\n",
       "      <td>0</td>\n",
       "      <td>...</td>\n",
       "      <td>0</td>\n",
       "      <td>0</td>\n",
       "      <td>0</td>\n",
       "      <td>0</td>\n",
       "      <td>0</td>\n",
       "      <td>0</td>\n",
       "      <td>0</td>\n",
       "      <td>0</td>\n",
       "      <td>3</td>\n",
       "      <td>3.9</td>\n",
       "    </tr>\n",
       "    <tr>\n",
       "      <th>1</th>\n",
       "      <td>1</td>\n",
       "      <td>3400341</td>\n",
       "      <td>Rangrezz Restaurant</td>\n",
       "      <td>Agra</td>\n",
       "      <td>0.000000</td>\n",
       "      <td>0.000000</td>\n",
       "      <td>700</td>\n",
       "      <td>0</td>\n",
       "      <td>0</td>\n",
       "      <td>0</td>\n",
       "      <td>...</td>\n",
       "      <td>0</td>\n",
       "      <td>0</td>\n",
       "      <td>0</td>\n",
       "      <td>0</td>\n",
       "      <td>0</td>\n",
       "      <td>0</td>\n",
       "      <td>0</td>\n",
       "      <td>0</td>\n",
       "      <td>3</td>\n",
       "      <td>3.5</td>\n",
       "    </tr>\n",
       "    <tr>\n",
       "      <th>2</th>\n",
       "      <td>2</td>\n",
       "      <td>3400005</td>\n",
       "      <td>Time2Eat - Mama Chicken</td>\n",
       "      <td>Agra</td>\n",
       "      <td>78.011608</td>\n",
       "      <td>27.160832</td>\n",
       "      <td>500</td>\n",
       "      <td>0</td>\n",
       "      <td>0</td>\n",
       "      <td>0</td>\n",
       "      <td>...</td>\n",
       "      <td>0</td>\n",
       "      <td>0</td>\n",
       "      <td>0</td>\n",
       "      <td>0</td>\n",
       "      <td>0</td>\n",
       "      <td>0</td>\n",
       "      <td>0</td>\n",
       "      <td>0</td>\n",
       "      <td>3</td>\n",
       "      <td>3.6</td>\n",
       "    </tr>\n",
       "    <tr>\n",
       "      <th>3</th>\n",
       "      <td>3</td>\n",
       "      <td>3400021</td>\n",
       "      <td>Chokho Jeeman Marwari Jain Bhojanalya</td>\n",
       "      <td>Agra</td>\n",
       "      <td>77.998092</td>\n",
       "      <td>27.195928</td>\n",
       "      <td>400</td>\n",
       "      <td>0</td>\n",
       "      <td>0</td>\n",
       "      <td>0</td>\n",
       "      <td>...</td>\n",
       "      <td>0</td>\n",
       "      <td>0</td>\n",
       "      <td>0</td>\n",
       "      <td>0</td>\n",
       "      <td>0</td>\n",
       "      <td>0</td>\n",
       "      <td>0</td>\n",
       "      <td>0</td>\n",
       "      <td>4</td>\n",
       "      <td>4.0</td>\n",
       "    </tr>\n",
       "    <tr>\n",
       "      <th>4</th>\n",
       "      <td>4</td>\n",
       "      <td>3400017</td>\n",
       "      <td>Pinch Of Spice</td>\n",
       "      <td>Agra</td>\n",
       "      <td>78.007553</td>\n",
       "      <td>27.201725</td>\n",
       "      <td>1000</td>\n",
       "      <td>0</td>\n",
       "      <td>0</td>\n",
       "      <td>0</td>\n",
       "      <td>...</td>\n",
       "      <td>0</td>\n",
       "      <td>0</td>\n",
       "      <td>0</td>\n",
       "      <td>0</td>\n",
       "      <td>0</td>\n",
       "      <td>0</td>\n",
       "      <td>0</td>\n",
       "      <td>0</td>\n",
       "      <td>4</td>\n",
       "      <td>4.2</td>\n",
       "    </tr>\n",
       "  </tbody>\n",
       "</table>\n",
       "<p>5 rows × 88 columns</p>\n",
       "</div>"
      ],
      "text/plain": [
       "   Unnamed: 0  Restaurant ID                        Restaurant Name  City  \\\n",
       "0           0        3400025                             Jahanpanah  Agra   \n",
       "1           1        3400341                    Rangrezz Restaurant  Agra   \n",
       "2           2        3400005                Time2Eat - Mama Chicken  Agra   \n",
       "3           3        3400021  Chokho Jeeman Marwari Jain Bhojanalya  Agra   \n",
       "4           4        3400017                         Pinch Of Spice  Agra   \n",
       "\n",
       "   Longitude   Latitude  Average Cost for two  Has Table booking  \\\n",
       "0  78.011544  27.161661                   850                  0   \n",
       "1   0.000000   0.000000                   700                  0   \n",
       "2  78.011608  27.160832                   500                  0   \n",
       "3  77.998092  27.195928                   400                  0   \n",
       "4  78.007553  27.201725                  1000                  0   \n",
       "\n",
       "   Has Online delivery  Is delivering now        ...         \\\n",
       "0                    0                  0        ...          \n",
       "1                    0                  0        ...          \n",
       "2                    0                  0        ...          \n",
       "3                    0                  0        ...          \n",
       "4                    0                  0        ...          \n",
       "\n",
       "   Cuisine 1_Street Food  Cuisine 1_Sushi  Cuisine 1_Tea  Cuisine 1_Tex-Mex  \\\n",
       "0                      0                0              0                  0   \n",
       "1                      0                0              0                  0   \n",
       "2                      0                0              0                  0   \n",
       "3                      0                0              0                  0   \n",
       "4                      0                0              0                  0   \n",
       "\n",
       "   Cuisine 1_Thai  Cuisine 1_Tibetan  Cuisine 1_Turkish  Cuisine 1_Vietnamese  \\\n",
       "0               0                  0                  0                     0   \n",
       "1               0                  0                  0                     0   \n",
       "2               0                  0                  0                     0   \n",
       "3               0                  0                  0                     0   \n",
       "4               0                  0                  0                     0   \n",
       "\n",
       "   Rating text  Aggregate rating  \n",
       "0            3               3.9  \n",
       "1            3               3.5  \n",
       "2            3               3.6  \n",
       "3            4               4.0  \n",
       "4            4               4.2  \n",
       "\n",
       "[5 rows x 88 columns]"
      ]
     },
     "execution_count": 184,
     "metadata": {},
     "output_type": "execute_result"
    }
   ],
   "source": [
    "import pandas as pd\n",
    "df = pd.read_csv('ZomatoIndiaCleaned.csv', encoding = 'latin-1', sep = ',')\n",
    "df.head()"
   ]
  },
  {
   "cell_type": "code",
   "execution_count": 185,
   "metadata": {},
   "outputs": [
    {
     "data": {
      "text/html": [
       "<div>\n",
       "<style>\n",
       "    .dataframe thead tr:only-child th {\n",
       "        text-align: right;\n",
       "    }\n",
       "\n",
       "    .dataframe thead th {\n",
       "        text-align: left;\n",
       "    }\n",
       "\n",
       "    .dataframe tbody tr th {\n",
       "        vertical-align: top;\n",
       "    }\n",
       "</style>\n",
       "<table border=\"1\" class=\"dataframe\">\n",
       "  <thead>\n",
       "    <tr style=\"text-align: right;\">\n",
       "      <th></th>\n",
       "      <th>Unnamed: 0</th>\n",
       "      <th>Restaurant ID</th>\n",
       "      <th>Restaurant Name</th>\n",
       "      <th>City</th>\n",
       "      <th>Longitude</th>\n",
       "      <th>Latitude</th>\n",
       "      <th>Average Cost for two</th>\n",
       "      <th>Has Table booking</th>\n",
       "      <th>Has Online delivery</th>\n",
       "      <th>Is delivering now</th>\n",
       "      <th>...</th>\n",
       "      <th>Cuisine 1_Street Food</th>\n",
       "      <th>Cuisine 1_Sushi</th>\n",
       "      <th>Cuisine 1_Tea</th>\n",
       "      <th>Cuisine 1_Tex-Mex</th>\n",
       "      <th>Cuisine 1_Thai</th>\n",
       "      <th>Cuisine 1_Tibetan</th>\n",
       "      <th>Cuisine 1_Turkish</th>\n",
       "      <th>Cuisine 1_Vietnamese</th>\n",
       "      <th>Rating text</th>\n",
       "      <th>Aggregate rating</th>\n",
       "    </tr>\n",
       "  </thead>\n",
       "  <tbody>\n",
       "    <tr>\n",
       "      <th>5549</th>\n",
       "      <td>7252</td>\n",
       "      <td>300459</td>\n",
       "      <td>Cake Palace</td>\n",
       "      <td>New Delhi</td>\n",
       "      <td>77.068840</td>\n",
       "      <td>28.635075</td>\n",
       "      <td>200</td>\n",
       "      <td>0</td>\n",
       "      <td>0</td>\n",
       "      <td>0</td>\n",
       "      <td>...</td>\n",
       "      <td>0</td>\n",
       "      <td>0</td>\n",
       "      <td>0</td>\n",
       "      <td>0</td>\n",
       "      <td>0</td>\n",
       "      <td>0</td>\n",
       "      <td>0</td>\n",
       "      <td>0</td>\n",
       "      <td>2</td>\n",
       "      <td>2.7</td>\n",
       "    </tr>\n",
       "    <tr>\n",
       "      <th>2523</th>\n",
       "      <td>3071</td>\n",
       "      <td>18456728</td>\n",
       "      <td>Druk</td>\n",
       "      <td>New Delhi</td>\n",
       "      <td>77.234094</td>\n",
       "      <td>28.550974</td>\n",
       "      <td>1000</td>\n",
       "      <td>1</td>\n",
       "      <td>0</td>\n",
       "      <td>0</td>\n",
       "      <td>...</td>\n",
       "      <td>0</td>\n",
       "      <td>0</td>\n",
       "      <td>0</td>\n",
       "      <td>0</td>\n",
       "      <td>0</td>\n",
       "      <td>0</td>\n",
       "      <td>0</td>\n",
       "      <td>0</td>\n",
       "      <td>4</td>\n",
       "      <td>4.1</td>\n",
       "    </tr>\n",
       "    <tr>\n",
       "      <th>343</th>\n",
       "      <td>404</td>\n",
       "      <td>9224</td>\n",
       "      <td>Kay's Bake Land</td>\n",
       "      <td>Faridabad</td>\n",
       "      <td>77.311657</td>\n",
       "      <td>28.480381</td>\n",
       "      <td>150</td>\n",
       "      <td>0</td>\n",
       "      <td>0</td>\n",
       "      <td>0</td>\n",
       "      <td>...</td>\n",
       "      <td>0</td>\n",
       "      <td>0</td>\n",
       "      <td>0</td>\n",
       "      <td>0</td>\n",
       "      <td>0</td>\n",
       "      <td>0</td>\n",
       "      <td>0</td>\n",
       "      <td>0</td>\n",
       "      <td>2</td>\n",
       "      <td>3.1</td>\n",
       "    </tr>\n",
       "    <tr>\n",
       "      <th>3274</th>\n",
       "      <td>3978</td>\n",
       "      <td>18349796</td>\n",
       "      <td>Chargrill Resto Bar</td>\n",
       "      <td>New Delhi</td>\n",
       "      <td>77.189206</td>\n",
       "      <td>28.649025</td>\n",
       "      <td>900</td>\n",
       "      <td>1</td>\n",
       "      <td>1</td>\n",
       "      <td>0</td>\n",
       "      <td>...</td>\n",
       "      <td>0</td>\n",
       "      <td>0</td>\n",
       "      <td>0</td>\n",
       "      <td>0</td>\n",
       "      <td>0</td>\n",
       "      <td>0</td>\n",
       "      <td>0</td>\n",
       "      <td>0</td>\n",
       "      <td>3</td>\n",
       "      <td>3.6</td>\n",
       "    </tr>\n",
       "    <tr>\n",
       "      <th>4682</th>\n",
       "      <td>6053</td>\n",
       "      <td>310768</td>\n",
       "      <td>High Street Cafí©</td>\n",
       "      <td>New Delhi</td>\n",
       "      <td>77.119954</td>\n",
       "      <td>28.647456</td>\n",
       "      <td>1250</td>\n",
       "      <td>1</td>\n",
       "      <td>1</td>\n",
       "      <td>0</td>\n",
       "      <td>...</td>\n",
       "      <td>0</td>\n",
       "      <td>0</td>\n",
       "      <td>0</td>\n",
       "      <td>0</td>\n",
       "      <td>0</td>\n",
       "      <td>0</td>\n",
       "      <td>0</td>\n",
       "      <td>0</td>\n",
       "      <td>3</td>\n",
       "      <td>3.8</td>\n",
       "    </tr>\n",
       "  </tbody>\n",
       "</table>\n",
       "<p>5 rows × 88 columns</p>\n",
       "</div>"
      ],
      "text/plain": [
       "      Unnamed: 0  Restaurant ID      Restaurant Name       City  Longitude  \\\n",
       "5549        7252         300459          Cake Palace  New Delhi  77.068840   \n",
       "2523        3071       18456728                 Druk  New Delhi  77.234094   \n",
       "343          404           9224      Kay's Bake Land  Faridabad  77.311657   \n",
       "3274        3978       18349796  Chargrill Resto Bar  New Delhi  77.189206   \n",
       "4682        6053         310768    High Street Cafí©  New Delhi  77.119954   \n",
       "\n",
       "       Latitude  Average Cost for two  Has Table booking  Has Online delivery  \\\n",
       "5549  28.635075                   200                  0                    0   \n",
       "2523  28.550974                  1000                  1                    0   \n",
       "343   28.480381                   150                  0                    0   \n",
       "3274  28.649025                   900                  1                    1   \n",
       "4682  28.647456                  1250                  1                    1   \n",
       "\n",
       "      Is delivering now        ...         Cuisine 1_Street Food  \\\n",
       "5549                  0        ...                             0   \n",
       "2523                  0        ...                             0   \n",
       "343                   0        ...                             0   \n",
       "3274                  0        ...                             0   \n",
       "4682                  0        ...                             0   \n",
       "\n",
       "      Cuisine 1_Sushi  Cuisine 1_Tea  Cuisine 1_Tex-Mex  Cuisine 1_Thai  \\\n",
       "5549                0              0                  0               0   \n",
       "2523                0              0                  0               0   \n",
       "343                 0              0                  0               0   \n",
       "3274                0              0                  0               0   \n",
       "4682                0              0                  0               0   \n",
       "\n",
       "      Cuisine 1_Tibetan  Cuisine 1_Turkish  Cuisine 1_Vietnamese  Rating text  \\\n",
       "5549                  0                  0                     0            2   \n",
       "2523                  0                  0                     0            4   \n",
       "343                   0                  0                     0            2   \n",
       "3274                  0                  0                     0            3   \n",
       "4682                  0                  0                     0            3   \n",
       "\n",
       "      Aggregate rating  \n",
       "5549               2.7  \n",
       "2523               4.1  \n",
       "343                3.1  \n",
       "3274               3.6  \n",
       "4682               3.8  \n",
       "\n",
       "[5 rows x 88 columns]"
      ]
     },
     "execution_count": 185,
     "metadata": {},
     "output_type": "execute_result"
    }
   ],
   "source": [
    "from sklearn.utils import shuffle\n",
    "df = shuffle(df) #Shuffling the data\n",
    "df.head()"
   ]
  },
  {
   "cell_type": "markdown",
   "metadata": {},
   "source": [
    "## Let us build a Classification Model for Prediciting the rating of a restaurant.\n",
    "### Target Value: Rating Text (Values: 1,2,3,4,5)"
   ]
  },
  {
   "cell_type": "code",
   "execution_count": null,
   "metadata": {
    "collapsed": true
   },
   "outputs": [],
   "source": [
    "Let us Visualize how each feature is correlated to the target value"
   ]
  },
  {
   "cell_type": "code",
   "execution_count": 186,
   "metadata": {},
   "outputs": [
    {
     "data": {
      "image/png": "[encoded data removed]",
      "text/plain": [
       "<Figure size 432x288 with 2 Axes>"
      ]
     },
     "metadata": {},
     "output_type": "display_data"
    }
   ],
   "source": [
    "import numpy as np\n",
    "import matplotlib.pyplot as plt\n",
    "import seaborn as sns\n",
    "cols = ['Average Cost for two', 'Has Table booking', 'Has Online delivery',  'Is delivering now', 'Price range', 'Votes', 'Rating text',]\n",
    "cor_matrix = np.corrcoef(df[cols].values.T) # We transpose to get the data by columns. Columns become rows.\n",
    "sns.set(font_scale=1)\n",
    "cor_heat_map = sns.heatmap(cor_matrix,\n",
    " cbar=True,\n",
    " annot=True,\n",
    " square=True,\n",
    " fmt='.2f',\n",
    " annot_kws={'size':10},\n",
    " yticklabels=cols,\n",
    " xticklabels=cols)\n",
    "plt.show()"
   ]
  },
  {
   "cell_type": "markdown",
   "metadata": {},
   "source": [
    "From the above Heat map, we can see that the Target Value (Rating text) is correlated well with the 'number of votes', 'price Range' and 'average cost for two', with correlation values being 0.42, 0.37 and 0.32 respectively. \n",
    "\n",
    "We can also draw many other inferences like, Average cost for two and price range has a very high correlation value of 0.83 which says that Average cost for two and price range are highly dependent on each other."
   ]
  },
  {
   "cell_type": "code",
   "execution_count": 187,
   "metadata": {},
   "outputs": [],
   "source": [
    "x = df.iloc[:,6:86] #Features\n",
    "y = df.iloc[:,86] #Target Value - Rating Text\n",
    "from sklearn.cross_validation import train_test_split\n",
    "X_train, X_test, y_train, y_test = train_test_split( x, y, test_size = 0.4, random_state = 1) # Splitting the Data into Training and Test with test size as 20%"
   ]
  },
  {
   "cell_type": "markdown",
   "metadata": {},
   "source": [
    "### Let us Start building Machine Learning Models and predict the accuracy score"
   ]
  },
  {
   "cell_type": "markdown",
   "metadata": {},
   "source": [
    "Model 1: Decision Tree Classification"
   ]
  },
  {
   "cell_type": "code",
   "execution_count": 198,
   "metadata": {},
   "outputs": [
    {
     "name": "stdout",
     "output_type": "stream",
     "text": [
      "Decision Tree Accuracy: 67.0759785111\n",
      "             precision    recall  f1-score   support\n",
      "\n",
      "          1       0.00      0.00      0.00        64\n",
      "          2       0.76      0.89      0.82      1442\n",
      "          3       0.50      0.52      0.51       741\n",
      "          4       0.54      0.25      0.34       314\n",
      "          5       0.11      0.02      0.04        45\n",
      "\n",
      "avg / total       0.63      0.67      0.64      2606\n",
      "\n"
     ]
    },
    {
     "name": "stderr",
     "output_type": "stream",
     "text": [
      "C:\\Users\\Abhishek\\Anaconda3\\lib\\site-packages\\sklearn\\metrics\\classification.py:1113: UndefinedMetricWarning: Precision and F-score are ill-defined and being set to 0.0 in labels with no predicted samples.\n",
      "  'precision', 'predicted', average, warn_for)\n"
     ]
    }
   ],
   "source": [
    "from sklearn.tree import DecisionTreeClassifier\n",
    "from sklearn.metrics import accuracy_score\n",
    "from sklearn.metrics import confusion_matrix\n",
    "dtree_gini = DecisionTreeClassifier(criterion = \"gini\", random_state = 1, max_depth=5, min_samples_leaf=10)\n",
    "dtree_gini.fit(X_train, y_train)\n",
    "dtree_gini_pred = dtree_gini.predict(X_test)\n",
    "print('Decision Tree Accuracy:', accuracy_score(y_test, dtree_gini_pred)*100)\n",
    "cm = confusion_matrix(y_test, dtree_gini_pred)\n",
    "from sklearn.metrics import classification_report\n",
    "print(classification_report(y_true=y_test,y_pred=dtree_gini_pred)) #Printing the Classification report to view precision, recall and f1 scores "
   ]
  },
  {
   "cell_type": "markdown",
   "metadata": {},
   "source": [
    "Model 2: Decision Tree With Ada Boost"
   ]
  },
  {
   "cell_type": "code",
   "execution_count": 189,
   "metadata": {},
   "outputs": [
    {
     "name": "stdout",
     "output_type": "stream",
     "text": [
      "Decision Tree with Ada Boost Accuracy: 63.0468150422\n"
     ]
    }
   ],
   "source": [
    "from sklearn.ensemble import AdaBoostClassifier\n",
    "ada = AdaBoostClassifier(DecisionTreeClassifier(max_depth=20),\n",
    "    n_estimators=60,\n",
    "    learning_rate=1.5, algorithm=\"SAMME\")\n",
    "ada.fit(X_train, y_train)\n",
    "ada_pred = ada.predict(X_test)\n",
    "print('Decision Tree with Ada Boost Accuracy:', accuracy_score(y_test, ada_pred)*100)"
   ]
  },
  {
   "cell_type": "markdown",
   "metadata": {},
   "source": [
    "Model 3: Random Forest Classification"
   ]
  },
  {
   "cell_type": "code",
   "execution_count": 190,
   "metadata": {},
   "outputs": [
    {
     "name": "stdout",
     "output_type": "stream",
     "text": [
      "Random Forest Accuracy: 63.7759017652\n",
      "Random Forest Out-of-bag score estimate: 65.0627079601\n"
     ]
    }
   ],
   "source": [
    "from sklearn.ensemble import RandomForestClassifier\n",
    "rf = RandomForestClassifier(n_estimators=200, oob_score=True)\n",
    "rf.fit(X_train, y_train)\n",
    "rf_pred = rf.predict(X_test)\n",
    "accuracy = accuracy_score(y_test, rf_pred)\n",
    "print('Random Forest Accuracy:', accuracy*100)\n",
    "print('Random Forest Out-of-bag score estimate:', rf.oob_score_*100)"
   ]
  },
  {
   "cell_type": "markdown",
   "metadata": {},
   "source": [
    "Model 4: K Nearest Neighbor Classification"
   ]
  },
  {
   "cell_type": "code",
   "execution_count": 191,
   "metadata": {},
   "outputs": [
    {
     "name": "stdout",
     "output_type": "stream",
     "text": [
      "K Nearest Neighbor Accuracy: 63.4689178818\n"
     ]
    }
   ],
   "source": [
    "from sklearn import neighbors\n",
    "knn=neighbors.KNeighborsClassifier()\n",
    "knn.fit(X_train, y_train)\n",
    "knn_pred = knn.predict(X_test)\n",
    "print('K Nearest Neighbor Accuracy:', accuracy_score(y_test, knn_pred)*100)"
   ]
  },
  {
   "cell_type": "markdown",
   "metadata": {},
   "source": [
    "Model 5: Artificial Neural Networks (Multi Layer Perceptron)"
   ]
  },
  {
   "cell_type": "code",
   "execution_count": 192,
   "metadata": {},
   "outputs": [
    {
     "name": "stdout",
     "output_type": "stream",
     "text": [
      "Artificial Neural Network Accuracy: 65.2724481965\n"
     ]
    }
   ],
   "source": [
    "from sklearn.neural_network import MLPClassifier\n",
    "mlp = MLPClassifier(hidden_layer_sizes=(13,13,13),max_iter=500)\n",
    "mlp.fit(X_train,y_train)\n",
    "MLPClassifier(activation='relu', alpha=0.0001, batch_size='auto', beta_1=0.9,\n",
    "       beta_2=0.999, early_stopping=False, epsilon=1e-08,\n",
    "       hidden_layer_sizes=(13, 13, 13), learning_rate='constant',\n",
    "       learning_rate_init=0.001, max_iter=300, momentum=0.9,\n",
    "       nesterovs_momentum=True, power_t=0.5, random_state=None,\n",
    "       shuffle=True, solver='adam', tol=0.0001, validation_fraction=0.1,\n",
    "       verbose=False, warm_start=False)\n",
    "\n",
    "nn_pred = mlp.predict(X_test)\n",
    "score = accuracy_score(y_test, nn_pred)\n",
    "print('Artificial Neural Network Accuracy:', score*100)"
   ]
  },
  {
   "cell_type": "markdown",
   "metadata": {},
   "source": []
  },
  {
   "cell_type": "markdown",
   "metadata": {},
   "source": [
    "# Conclusions:\n",
    "\n",
    "1. Data Analysis Showed that Rating is dependent on Average cost of two and also number of votes\n",
    "2. Correlation Matrix showed that the Average cost for two and price range are highly dependent on each other\n",
    "3. Correlation Matrix also showed that Rating text is correlated well with the 'number of votes', 'price Range' and 'average cost for two'\n",
    "4. Of all the 5 Models, the best accuracy that we are getting is for the decision tree classifier with the accuracy of  around 67%. This means that the Decision Tree model is predicting nearly 67% of the test data accurately\n",
    "5. Future works include: Hyper Parameter Tuning and using other boosting techniques like Xgboost\n",
    "6. Can improve the accuracy by converting the data into a binary classification problem and combining it"
   ]
  }
 ],
 "metadata": {
  "kernelspec": {
   "display_name": "Python 3",
   "language": "python",
   "name": "python3"
  },
  "language_info": {
   "codemirror_mode": {
    "name": "ipython",
    "version": 3
   },
   "file_extension": ".py",
   "mimetype": "text/x-python",
   "name": "python",
   "nbconvert_exporter": "python",
   "pygments_lexer": "ipython3",
   "version": "3.6.6"
  }
 },
 "nbformat": 4,
 "nbformat_minor": 2
}
